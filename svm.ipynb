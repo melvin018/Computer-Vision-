{
 "cells": [
  {
   "cell_type": "markdown",
   "metadata": {
    "tags": [
     "pdf-title"
    ]
   },
   "source": [
    "# Assignment 1-2: Support Vector Machine\n",
    "\n",
    "## Multiclass Support Vector Machine exercise\n",
    "\n",
    "\n",
    "In this exercise you will:\n",
    "    \n",
    "- implement a fully-vectorized **loss function** for the SVM\n",
    "- implement the fully-vectorized expression for its **analytic gradient**\n",
    "- **check your implementation** using numerical gradient\n"
   ]
  },
  {
   "cell_type": "markdown",
   "metadata": {
    "tags": [
     "pdf-ignore"
    ]
   },
   "source": [
    "## CIFAR-10 Data Loading and Preprocessing"
   ]
  },
  {
   "cell_type": "code",
   "execution_count": 1,
   "metadata": {},
   "outputs": [
    {
     "name": "stdout",
     "output_type": "stream",
     "text": [
      "Collecting scikit-learn\n",
      "  Obtaining dependency information for scikit-learn from https://files.pythonhosted.org/packages/57/ed/f607ebf69f87bcce2e3fa329bd78da8cafd3d51190a19d58012d2d7f2252/scikit_learn-1.5.0-cp312-cp312-win_amd64.whl.metadata\n",
      "  Downloading scikit_learn-1.5.0-cp312-cp312-win_amd64.whl.metadata (11 kB)\n",
      "Requirement already satisfied: numpy>=1.19.5 in c:\\users\\bhava\\downloads\\computer vision\\computer-vision--group-b\\venv\\lib\\site-packages (from scikit-learn) (1.26.4)\n",
      "Collecting scipy>=1.6.0 (from scikit-learn)\n",
      "  Obtaining dependency information for scipy>=1.6.0 from https://files.pythonhosted.org/packages/3e/df/963384e90733e08eac978cd103c34df181d1fec424de383cdc443f418dd4/scipy-1.13.1-cp312-cp312-win_amd64.whl.metadata\n",
      "  Downloading scipy-1.13.1-cp312-cp312-win_amd64.whl.metadata (60 kB)\n",
      "     ---------------------------------------- 0.0/60.6 kB ? eta -:--:--\n",
      "     ------ --------------------------------- 10.2/60.6 kB ? eta -:--:--\n",
      "     ------------------------- ------------ 41.0/60.6 kB 487.6 kB/s eta 0:00:01\n",
      "     -------------------------------------- 60.6/60.6 kB 535.5 kB/s eta 0:00:00\n",
      "Collecting joblib>=1.2.0 (from scikit-learn)\n",
      "  Obtaining dependency information for joblib>=1.2.0 from https://files.pythonhosted.org/packages/91/29/df4b9b42f2be0b623cbd5e2140cafcaa2bef0759a00b7b70104dcfe2fb51/joblib-1.4.2-py3-none-any.whl.metadata\n",
      "  Downloading joblib-1.4.2-py3-none-any.whl.metadata (5.4 kB)\n",
      "Collecting threadpoolctl>=3.1.0 (from scikit-learn)\n",
      "  Obtaining dependency information for threadpoolctl>=3.1.0 from https://files.pythonhosted.org/packages/4b/2c/ffbf7a134b9ab11a67b0cf0726453cedd9c5043a4fe7a35d1cefa9a1bcfb/threadpoolctl-3.5.0-py3-none-any.whl.metadata\n",
      "  Downloading threadpoolctl-3.5.0-py3-none-any.whl.metadata (13 kB)\n",
      "Downloading scikit_learn-1.5.0-cp312-cp312-win_amd64.whl (10.9 MB)\n",
      "   ---------------------------------------- 0.0/10.9 MB ? eta -:--:--\n",
      "   ---------------------------------------- 0.1/10.9 MB 3.3 MB/s eta 0:00:04\n",
      "    --------------------------------------- 0.3/10.9 MB 2.6 MB/s eta 0:00:05\n",
      "   - -------------------------------------- 0.4/10.9 MB 3.2 MB/s eta 0:00:04\n",
      "   -- ------------------------------------- 0.6/10.9 MB 3.2 MB/s eta 0:00:04\n",
      "   -- ------------------------------------- 0.8/10.9 MB 3.5 MB/s eta 0:00:03\n",
      "   --- ------------------------------------ 1.0/10.9 MB 3.7 MB/s eta 0:00:03\n",
      "   ---- ----------------------------------- 1.2/10.9 MB 3.6 MB/s eta 0:00:03\n",
      "   ----- ---------------------------------- 1.4/10.9 MB 3.8 MB/s eta 0:00:03\n",
      "   ----- ---------------------------------- 1.6/10.9 MB 4.0 MB/s eta 0:00:03\n",
      "   ------ --------------------------------- 1.9/10.9 MB 4.2 MB/s eta 0:00:03\n",
      "   ------- -------------------------------- 2.1/10.9 MB 4.2 MB/s eta 0:00:03\n",
      "   -------- ------------------------------- 2.4/10.9 MB 4.5 MB/s eta 0:00:02\n",
      "   --------- ------------------------------ 2.7/10.9 MB 4.8 MB/s eta 0:00:02\n",
      "   ----------- ---------------------------- 3.1/10.9 MB 4.9 MB/s eta 0:00:02\n",
      "   ------------ --------------------------- 3.4/10.9 MB 5.1 MB/s eta 0:00:02\n",
      "   ------------- -------------------------- 3.8/10.9 MB 5.3 MB/s eta 0:00:02\n",
      "   -------------- ------------------------- 4.0/10.9 MB 5.4 MB/s eta 0:00:02\n",
      "   --------------- ------------------------ 4.4/10.9 MB 5.5 MB/s eta 0:00:02\n",
      "   --------------- ------------------------ 4.4/10.9 MB 5.5 MB/s eta 0:00:02\n",
      "   ----------------- ---------------------- 4.7/10.9 MB 5.2 MB/s eta 0:00:02\n",
      "   ------------------ --------------------- 5.1/10.9 MB 5.3 MB/s eta 0:00:02\n",
      "   ------------------- -------------------- 5.4/10.9 MB 5.4 MB/s eta 0:00:02\n",
      "   -------------------- ------------------- 5.7/10.9 MB 5.4 MB/s eta 0:00:01\n",
      "   ---------------------- ----------------- 6.1/10.9 MB 5.5 MB/s eta 0:00:01\n",
      "   ----------------------- ---------------- 6.4/10.9 MB 5.5 MB/s eta 0:00:01\n",
      "   ------------------------ --------------- 6.7/10.9 MB 5.6 MB/s eta 0:00:01\n",
      "   ------------------------- -------------- 7.0/10.9 MB 5.7 MB/s eta 0:00:01\n",
      "   -------------------------- ------------- 7.3/10.9 MB 5.7 MB/s eta 0:00:01\n",
      "   ---------------------------- ----------- 7.7/10.9 MB 5.8 MB/s eta 0:00:01\n",
      "   ----------------------------- ---------- 8.1/10.9 MB 5.9 MB/s eta 0:00:01\n",
      "   ------------------------------ --------- 8.3/10.9 MB 5.8 MB/s eta 0:00:01\n",
      "   ------------------------------- -------- 8.5/10.9 MB 5.7 MB/s eta 0:00:01\n",
      "   -------------------------------- ------- 8.8/10.9 MB 5.7 MB/s eta 0:00:01\n",
      "   --------------------------------- ------ 9.2/10.9 MB 5.7 MB/s eta 0:00:01\n",
      "   ---------------------------------- ----- 9.6/10.9 MB 5.8 MB/s eta 0:00:01\n",
      "   ------------------------------------ --- 9.9/10.9 MB 5.9 MB/s eta 0:00:01\n",
      "   ------------------------------------- -- 10.2/10.9 MB 6.0 MB/s eta 0:00:01\n",
      "   -------------------------------------- - 10.5/10.9 MB 6.2 MB/s eta 0:00:01\n",
      "   ---------------------------------------  10.9/10.9 MB 6.3 MB/s eta 0:00:01\n",
      "   ---------------------------------------  10.9/10.9 MB 6.3 MB/s eta 0:00:01\n",
      "   ---------------------------------------- 10.9/10.9 MB 6.1 MB/s eta 0:00:00\n",
      "Downloading joblib-1.4.2-py3-none-any.whl (301 kB)\n",
      "   ---------------------------------------- 0.0/301.8 kB ? eta -:--:--\n",
      "   ---------------------------------------- 301.8/301.8 kB 9.4 MB/s eta 0:00:00\n",
      "Downloading scipy-1.13.1-cp312-cp312-win_amd64.whl (45.9 MB)\n",
      "   ---------------------------------------- 0.0/45.9 MB ? eta -:--:--\n",
      "   ---------------------------------------- 0.4/45.9 MB 8.1 MB/s eta 0:00:06\n",
      "    --------------------------------------- 0.7/45.9 MB 7.5 MB/s eta 0:00:07\n",
      "    --------------------------------------- 1.1/45.9 MB 7.8 MB/s eta 0:00:06\n",
      "   - -------------------------------------- 1.4/45.9 MB 8.2 MB/s eta 0:00:06\n",
      "   - -------------------------------------- 1.8/45.9 MB 8.0 MB/s eta 0:00:06\n",
      "   - -------------------------------------- 2.1/45.9 MB 7.9 MB/s eta 0:00:06\n",
      "   -- ------------------------------------- 2.5/45.9 MB 8.0 MB/s eta 0:00:06\n",
      "   -- ------------------------------------- 2.8/45.9 MB 8.2 MB/s eta 0:00:06\n",
      "   -- ------------------------------------- 3.2/45.9 MB 7.8 MB/s eta 0:00:06\n",
      "   --- ------------------------------------ 3.6/45.9 MB 8.0 MB/s eta 0:00:06\n",
      "   --- ------------------------------------ 4.0/45.9 MB 7.9 MB/s eta 0:00:06\n",
      "   --- ------------------------------------ 4.3/45.9 MB 7.9 MB/s eta 0:00:06\n",
      "   ---- ----------------------------------- 4.7/45.9 MB 7.8 MB/s eta 0:00:06\n",
      "   ---- ----------------------------------- 5.1/45.9 MB 8.1 MB/s eta 0:00:06\n",
      "   ---- ----------------------------------- 5.5/45.9 MB 8.0 MB/s eta 0:00:06\n",
      "   ----- ---------------------------------- 5.9/45.9 MB 8.0 MB/s eta 0:00:05\n",
      "   ----- ---------------------------------- 6.3/45.9 MB 8.1 MB/s eta 0:00:05\n",
      "   ----- ---------------------------------- 6.7/45.9 MB 8.0 MB/s eta 0:00:05\n",
      "   ------ --------------------------------- 7.1/45.9 MB 8.1 MB/s eta 0:00:05\n",
      "   ------ --------------------------------- 7.4/45.9 MB 7.9 MB/s eta 0:00:05\n",
      "   ------ --------------------------------- 7.8/45.9 MB 8.0 MB/s eta 0:00:05\n",
      "   ------- -------------------------------- 8.2/45.9 MB 7.9 MB/s eta 0:00:05\n",
      "   ------- -------------------------------- 8.5/45.9 MB 8.0 MB/s eta 0:00:05\n",
      "   ------- -------------------------------- 8.9/45.9 MB 7.9 MB/s eta 0:00:05\n",
      "   -------- ------------------------------- 9.3/45.9 MB 7.9 MB/s eta 0:00:05\n",
      "   -------- ------------------------------- 9.7/45.9 MB 8.0 MB/s eta 0:00:05\n",
      "   -------- ------------------------------- 10.1/45.9 MB 8.0 MB/s eta 0:00:05\n",
      "   --------- ------------------------------ 10.6/45.9 MB 8.0 MB/s eta 0:00:05\n",
      "   --------- ------------------------------ 10.9/45.9 MB 8.1 MB/s eta 0:00:05\n",
      "   --------- ------------------------------ 11.4/45.9 MB 8.0 MB/s eta 0:00:05\n",
      "   ---------- ----------------------------- 11.7/45.9 MB 8.0 MB/s eta 0:00:05\n",
      "   ---------- ----------------------------- 12.2/45.9 MB 8.1 MB/s eta 0:00:05\n",
      "   ---------- ----------------------------- 12.5/45.9 MB 8.1 MB/s eta 0:00:05\n",
      "   ----------- ---------------------------- 12.9/45.9 MB 8.1 MB/s eta 0:00:05\n",
      "   ----------- ---------------------------- 13.3/45.9 MB 8.0 MB/s eta 0:00:05\n",
      "   ----------- ---------------------------- 13.7/45.9 MB 8.2 MB/s eta 0:00:04\n",
      "   ------------ --------------------------- 14.0/45.9 MB 8.1 MB/s eta 0:00:04\n",
      "   ------------ --------------------------- 14.4/45.9 MB 8.2 MB/s eta 0:00:04\n",
      "   ------------ --------------------------- 14.7/45.9 MB 8.1 MB/s eta 0:00:04\n",
      "   ------------- -------------------------- 15.2/45.9 MB 8.1 MB/s eta 0:00:04\n",
      "   ------------- -------------------------- 15.5/45.9 MB 8.1 MB/s eta 0:00:04\n",
      "   ------------- -------------------------- 15.9/45.9 MB 8.1 MB/s eta 0:00:04\n",
      "   -------------- ------------------------- 16.4/45.9 MB 8.2 MB/s eta 0:00:04\n",
      "   -------------- ------------------------- 16.8/45.9 MB 8.3 MB/s eta 0:00:04\n",
      "   -------------- ------------------------- 17.1/45.9 MB 8.2 MB/s eta 0:00:04\n",
      "   --------------- ------------------------ 17.3/45.9 MB 8.0 MB/s eta 0:00:04\n",
      "   --------------- ------------------------ 17.3/45.9 MB 8.0 MB/s eta 0:00:04\n",
      "   --------------- ------------------------ 17.7/45.9 MB 7.7 MB/s eta 0:00:04\n",
      "   --------------- ------------------------ 18.1/45.9 MB 7.7 MB/s eta 0:00:04\n",
      "   ---------------- ----------------------- 18.5/45.9 MB 7.8 MB/s eta 0:00:04\n",
      "   ---------------- ----------------------- 18.9/45.9 MB 7.9 MB/s eta 0:00:04\n",
      "   ---------------- ----------------------- 19.3/45.9 MB 7.8 MB/s eta 0:00:04\n",
      "   ----------------- ---------------------- 19.7/45.9 MB 7.9 MB/s eta 0:00:04\n",
      "   ----------------- ---------------------- 20.1/45.9 MB 8.0 MB/s eta 0:00:04\n",
      "   ----------------- ---------------------- 20.5/45.9 MB 7.9 MB/s eta 0:00:04\n",
      "   ------------------ --------------------- 20.9/45.9 MB 7.9 MB/s eta 0:00:04\n",
      "   ------------------ --------------------- 21.2/45.9 MB 7.9 MB/s eta 0:00:04\n",
      "   ------------------ --------------------- 21.4/45.9 MB 7.8 MB/s eta 0:00:04\n",
      "   ------------------ --------------------- 21.6/45.9 MB 7.6 MB/s eta 0:00:04\n",
      "   ------------------- -------------------- 21.9/45.9 MB 7.4 MB/s eta 0:00:04\n",
      "   ------------------- -------------------- 22.3/45.9 MB 7.6 MB/s eta 0:00:04\n",
      "   ------------------- -------------------- 22.6/45.9 MB 7.6 MB/s eta 0:00:04\n",
      "   -------------------- ------------------- 23.0/45.9 MB 7.7 MB/s eta 0:00:03\n",
      "   -------------------- ------------------- 23.4/45.9 MB 7.6 MB/s eta 0:00:03\n",
      "   -------------------- ------------------- 23.9/45.9 MB 7.6 MB/s eta 0:00:03\n",
      "   --------------------- ------------------ 24.3/45.9 MB 7.7 MB/s eta 0:00:03\n",
      "   --------------------- ------------------ 24.8/45.9 MB 7.9 MB/s eta 0:00:03\n",
      "   --------------------- ------------------ 25.2/45.9 MB 7.8 MB/s eta 0:00:03\n",
      "   ---------------------- ----------------- 25.7/45.9 MB 7.9 MB/s eta 0:00:03\n",
      "   ---------------------- ----------------- 26.1/45.9 MB 7.8 MB/s eta 0:00:03\n",
      "   ----------------------- ---------------- 26.5/45.9 MB 7.8 MB/s eta 0:00:03\n",
      "   ----------------------- ---------------- 27.0/45.9 MB 7.8 MB/s eta 0:00:03\n",
      "   ----------------------- ---------------- 27.5/45.9 MB 8.0 MB/s eta 0:00:03\n",
      "   ------------------------ --------------- 28.0/45.9 MB 8.5 MB/s eta 0:00:03\n",
      "   ------------------------ --------------- 28.5/45.9 MB 8.6 MB/s eta 0:00:03\n",
      "   ------------------------- -------------- 29.0/45.9 MB 8.6 MB/s eta 0:00:02\n",
      "   ------------------------- -------------- 29.4/45.9 MB 8.7 MB/s eta 0:00:02\n",
      "   ------------------------- -------------- 29.8/45.9 MB 8.6 MB/s eta 0:00:02\n",
      "   -------------------------- ------------- 30.3/45.9 MB 8.7 MB/s eta 0:00:02\n",
      "   -------------------------- ------------- 30.8/45.9 MB 8.8 MB/s eta 0:00:02\n",
      "   --------------------------- ------------ 31.2/45.9 MB 8.7 MB/s eta 0:00:02\n",
      "   --------------------------- ------------ 31.7/45.9 MB 9.2 MB/s eta 0:00:02\n",
      "   ---------------------------- ----------- 32.2/45.9 MB 9.5 MB/s eta 0:00:02\n",
      "   ---------------------------- ----------- 32.8/45.9 MB 9.5 MB/s eta 0:00:02\n",
      "   ---------------------------- ----------- 33.3/45.9 MB 9.8 MB/s eta 0:00:02\n",
      "   ----------------------------- ---------- 33.8/45.9 MB 9.6 MB/s eta 0:00:02\n",
      "   ----------------------------- ---------- 34.2/45.9 MB 9.8 MB/s eta 0:00:02\n",
      "   ------------------------------ --------- 34.5/45.9 MB 9.6 MB/s eta 0:00:02\n",
      "   ------------------------------ --------- 34.9/45.9 MB 9.5 MB/s eta 0:00:02\n",
      "   ------------------------------ --------- 35.3/45.9 MB 9.4 MB/s eta 0:00:02\n",
      "   ------------------------------- -------- 35.7/45.9 MB 9.4 MB/s eta 0:00:02\n",
      "   ------------------------------- -------- 36.0/45.9 MB 9.2 MB/s eta 0:00:02\n",
      "   ------------------------------- -------- 36.4/45.9 MB 9.4 MB/s eta 0:00:02\n",
      "   -------------------------------- ------- 36.8/45.9 MB 9.4 MB/s eta 0:00:01\n",
      "   -------------------------------- ------- 37.1/45.9 MB 9.4 MB/s eta 0:00:01\n",
      "   -------------------------------- ------- 37.5/45.9 MB 9.2 MB/s eta 0:00:01\n",
      "   --------------------------------- ------ 37.9/45.9 MB 9.2 MB/s eta 0:00:01\n",
      "   --------------------------------- ------ 38.3/45.9 MB 9.2 MB/s eta 0:00:01\n",
      "   --------------------------------- ------ 38.7/45.9 MB 9.1 MB/s eta 0:00:01\n",
      "   ---------------------------------- ----- 39.1/45.9 MB 9.1 MB/s eta 0:00:01\n",
      "   ---------------------------------- ----- 39.4/45.9 MB 9.0 MB/s eta 0:00:01\n",
      "   ---------------------------------- ----- 39.8/45.9 MB 8.8 MB/s eta 0:00:01\n",
      "   ----------------------------------- ---- 40.3/45.9 MB 9.1 MB/s eta 0:00:01\n",
      "   ----------------------------------- ---- 40.7/45.9 MB 8.8 MB/s eta 0:00:01\n",
      "   ----------------------------------- ---- 41.1/45.9 MB 8.8 MB/s eta 0:00:01\n",
      "   ------------------------------------ --- 41.5/45.9 MB 8.8 MB/s eta 0:00:01\n",
      "   ------------------------------------ --- 41.8/45.9 MB 8.7 MB/s eta 0:00:01\n",
      "   ------------------------------------ --- 42.2/45.9 MB 8.7 MB/s eta 0:00:01\n",
      "   ------------------------------------- -- 42.6/45.9 MB 8.7 MB/s eta 0:00:01\n",
      "   ------------------------------------- -- 43.0/45.9 MB 8.8 MB/s eta 0:00:01\n",
      "   ------------------------------------- -- 43.4/45.9 MB 8.6 MB/s eta 0:00:01\n",
      "   -------------------------------------- - 43.9/45.9 MB 8.6 MB/s eta 0:00:01\n",
      "   -------------------------------------- - 44.3/45.9 MB 8.6 MB/s eta 0:00:01\n",
      "   -------------------------------------- - 44.8/45.9 MB 8.7 MB/s eta 0:00:01\n",
      "   ---------------------------------------  45.2/45.9 MB 8.6 MB/s eta 0:00:01\n",
      "   ---------------------------------------  45.8/45.9 MB 8.7 MB/s eta 0:00:01\n",
      "   ---------------------------------------  45.9/45.9 MB 8.7 MB/s eta 0:00:01\n",
      "   ---------------------------------------  45.9/45.9 MB 8.7 MB/s eta 0:00:01\n",
      "   ---------------------------------------  45.9/45.9 MB 8.7 MB/s eta 0:00:01\n",
      "   ---------------------------------------  45.9/45.9 MB 8.7 MB/s eta 0:00:01\n",
      "   ---------------------------------------- 45.9/45.9 MB 7.4 MB/s eta 0:00:00\n",
      "Downloading threadpoolctl-3.5.0-py3-none-any.whl (18 kB)\n",
      "Installing collected packages: threadpoolctl, scipy, joblib, scikit-learn\n",
      "Successfully installed joblib-1.4.2 scikit-learn-1.5.0 scipy-1.13.1 threadpoolctl-3.5.0\n",
      "Note: you may need to restart the kernel to use updated packages.\n"
     ]
    },
    {
     "name": "stderr",
     "output_type": "stream",
     "text": [
      "\n",
      "[notice] A new release of pip is available: 23.2.1 -> 24.0\n",
      "[notice] To update, run: python.exe -m pip install --upgrade pip\n"
     ]
    }
   ],
   "source": [
    "pip install scikit-learn"
   ]
  },
  {
   "cell_type": "code",
   "execution_count": 7,
   "metadata": {},
   "outputs": [],
   "source": [
    "from data_utils import load_pickle,load_CIFAR10,load_CIFAR_batch\n",
    "from download import _print_download_progress,maybe_download_and_extract\n",
    "import numpy as np"
   ]
  },
  {
   "cell_type": "code",
   "execution_count": 3,
   "metadata": {
    "tags": [
     "pdf-ignore"
    ]
   },
   "outputs": [
    {
     "name": "stdout",
     "output_type": "stream",
     "text": [
      "Data has apparently already been downloaded and unpacked.\n"
     ]
    }
   ],
   "source": [
    "# Load the raw CIFAR-10 data.\n",
    "url = \"https://www.cs.toronto.edu/~kriz/cifar-10-python.tar.gz\"\n",
    "download_dir = \"./data\"\n",
    "maybe_download_and_extract(url,download_dir)\n",
    "\n",
    "# %%\n",
    "cifar10_dir = './data/cifar-10-batches-py'\n"
   ]
  },
  {
   "cell_type": "code",
   "execution_count": 5,
   "metadata": {
    "tags": [
     "pdf-ignore"
    ]
   },
   "outputs": [],
   "source": [
    "def train_test_process(X_train,y_train,X_test,y_test):\n",
    "    # Set the number of samples for each set\n",
    "    num_training = 49000\n",
    "    num_validation = 1000\n",
    "    num_test = 1000\n",
    "    num_dev = 500\n",
    "\n",
    "    # Our validation set will be num_validation points from the original training set.\n",
    "    X_val = X_train[num_training:num_training + num_validation]\n",
    "    y_val = y_train[num_training:num_training + num_validation]\n",
    "\n",
    "    # Our training set will be the first num_train points from the original training set.\n",
    "    X_train = X_train[:num_training]\n",
    "    y_train = y_train[:num_training]\n",
    "\n",
    "    # We will also make a development set, which is a small subset of the training set.\n",
    "    mask = np.random.choice(num_training, num_dev, replace=False)\n",
    "    X_dev = X_train[mask]\n",
    "    y_dev = y_train[mask]\n",
    "\n",
    "    # We use the first num_test points of the original test set as our test set.\n",
    "    X_test = X_test[:num_test]\n",
    "    y_test = y_test[:num_test]\n",
    "\n",
    "    # Print shapes to verify the splits\n",
    "    print('Train data shape: ', X_train.shape)\n",
    "    print('Train labels shape: ', y_train.shape)\n",
    "    print('Validation data shape: ', X_val.shape)\n",
    "    print('Validation labels shape: ', y_val.shape)\n",
    "    print('Development data shape: ', X_dev.shape)\n",
    "    print('Development labels shape: ', y_dev.shape)\n",
    "    print('Test data shape: ', X_test.shape)\n",
    "    print('Test labels shape: ', y_test.shape)"
   ]
  },
  {
   "cell_type": "code",
   "execution_count": 9,
   "metadata": {
    "tags": [
     "pdf-ignore"
    ]
   },
   "outputs": [
    {
     "ename": "IndentationError",
     "evalue": "unexpected indent (1812463373.py, line 2)",
     "output_type": "error",
     "traceback": [
      "\u001b[1;36m  Cell \u001b[1;32mIn[9], line 2\u001b[1;36m\u001b[0m\n\u001b[1;33m    X_train = np.reshape(X_train, (X_train.shape[0], -1))\u001b[0m\n\u001b[1;37m    ^\u001b[0m\n\u001b[1;31mIndentationError\u001b[0m\u001b[1;31m:\u001b[0m unexpected indent\n"
     ]
    }
   ],
   "source": [
    " # Preprocessing: reshape the image data into rows\n",
    "X_train = np.reshape(X_train, (X_train.shape[0], -1))\n",
    "X_val = np.reshape(X_val, (X_val.shape[0], -1))\n",
    "X_test = np.reshape(X_test, (X_test.shape[0], -1))\n",
    "X_dev = np.reshape(X_dev, (X_dev.shape[0], -1))\n",
    "\n",
    "# As a sanity check, print out the shapes of the data\n",
    "print('Training data shape: ', X_train.shape)\n",
    "print('Validation data shape: ', X_val.shape)\n",
    "print('Test data shape: ', X_test.shape)\n",
    "print('Development data shape: ', X_dev.shape)"
   ]
  },
  {
   "cell_type": "code",
   "execution_count": null,
   "metadata": {
    "tags": [
     "pdf-ignore-input"
    ]
   },
   "outputs": [],
   "source": [
    "# Preprocessing: subtract the mean image\n",
    "# first: compute the image mean based on the training data\n",
    "mean_image = np.mean(X_train, axis=0)\n",
    "print(mean_image[:10]) # print a few of the elements\n",
    "plt.figure(figsize=(4,4))\n",
    "plt.imshow(mean_image.reshape((32,32,3)).astype('uint8')) # visualize the mean image\n",
    "plt.show()\n",
    "\n",
    "# second: subtract the mean image from train and test data\n",
    "X_train -= mean_image\n",
    "X_val -= mean_image\n",
    "X_test -= mean_image\n",
    "X_dev -= mean_image\n",
    "\n",
    "# third: append the bias dimension of ones (i.e. bias trick) so that our SVM\n",
    "# only has to worry about optimizing a single weight matrix W.\n",
    "X_train = np.hstack([X_train, np.ones((X_train.shape[0], 1))])\n",
    "X_val = np.hstack([X_val, np.ones((X_val.shape[0], 1))])\n",
    "X_test = np.hstack([X_test, np.ones((X_test.shape[0], 1))])\n",
    "X_dev = np.hstack([X_dev, np.ones((X_dev.shape[0], 1))])\n",
    "\n",
    "print(X_train.shape, X_val.shape, X_test.shape, X_dev.shape)"
   ]
  },
  {
   "cell_type": "markdown",
   "metadata": {},
   "source": [
    "## SVM Classifier\n",
    "\n",
    "You need to complete `svm_loss_naive` which uses for loops to evaluate the multiclass SVM loss function. "
   ]
  },
  {
   "cell_type": "code",
   "execution_count": null,
   "metadata": {},
   "outputs": [],
   "source": [
    "from builtins import range\n",
    "import numpy as np\n",
    "from random import shuffle\n",
    "from past.builtins import xrange\n",
    "\n",
    "def svm_loss_naive(W, X, y, reg):\n",
    "    \"\"\"\n",
    "    Structured SVM loss function, naive implementation (with loops).\n",
    "\n",
    "    Inputs have dimension D, there are C classes, and we operate on minibatches\n",
    "    of N examples.\n",
    "\n",
    "    Inputs:\n",
    "    - W: A numpy array of shape (D, C) containing weights.\n",
    "    - X: A numpy array of shape (N, D) containing a minibatch of data.\n",
    "    - y: A numpy array of shape (N,) containing training labels; y[i] = c means\n",
    "      that X[i] has label c, where 0 <= c < C.\n",
    "    - reg: (float) regularization strength\n",
    "\n",
    "    Returns a tuple of:\n",
    "    - loss as single float\n",
    "    - gradient with respect to weights W; an array of same shape as W\n",
    "    \"\"\"\n",
    "    dW = np.zeros(W.shape) # initialize the gradient as zero\n",
    "\n",
    "    # compute the loss and the gradient\n",
    "    num_classes = W.shape[1]\n",
    "    num_train = X.shape[0]\n",
    "    loss = 0.0\n",
    "    for i in range(num_train):\n",
    "        scores = X[i].dot(W)\n",
    "        correct_class_score = scores[y[i]]\n",
    "        for j in range(num_classes):\n",
    "            if j == y[i]:\n",
    "                continue\n",
    "            margin = scores[j] - correct_class_score + 1 # note delta = 1\n",
    "            if margin > 0:\n",
    "                loss += margin\n",
    "\n",
    "    # Right now the loss is a sum over all training examples, but we want it\n",
    "    # to be an average instead so we divide by num_train.\n",
    "    loss /= num_train\n",
    "\n",
    "    # Add regularization to the loss.\n",
    "    loss += reg * np.sum(W * W)\n",
    "\n",
    "    #############################################################################\n",
    "    # TODO:                                                                     #\n",
    "    # Compute the gradient of the loss function and store it dW.                #\n",
    "    # Rather than first computing the loss and then computing the derivative,   #\n",
    "    # it may be simpler to compute the derivative at the same time that the     #\n",
    "    # loss is being computed. As a result you may need to modify some of the    #\n",
    "    # code above to compute the gradient.                                       #\n",
    "    #############################################################################\n",
    "    # *****START OF YOUR CODE*****\n",
    "    num_classes = W.shape[1]\n",
    "    num_train = X.shape[0]\n",
    "    loss = 0.0\n",
    "\n",
    "    for i in range(num_train):\n",
    "        scores = X[i].dot(W)\n",
    "        correct_class_score = scores[y[i]]\n",
    "        for j in range(num_classes):\n",
    "            if j == y[i]:\n",
    "                continue\n",
    "            margin = scores[j] - correct_class_score + 1 \n",
    "            if margin > 0:\n",
    "                loss += margin\n",
    "                dW[:, j] += X[i]\n",
    "                dW[:, y[i]] -= X[i]\n",
    "\n",
    "    loss /= num_train\n",
    "    loss += reg * np.sum(W * W)\n",
    "\n",
    "    dW /= num_train\n",
    "    dW += 2 * reg * W\n",
    "    pass\n",
    "\n",
    "    # *****END OF YOUR CODE*****\n",
    "    \n",
    "    return loss, dW"
   ]
  },
  {
   "cell_type": "code",
   "execution_count": null,
   "metadata": {},
   "outputs": [],
   "source": [
    "# generate a random SVM weight matrix of small numbers\n",
    "W = np.random.randn(3073, 10) * 0.0001 \n",
    "\n",
    "loss, grad = svm_loss_naive(W, X_dev, y_dev, 0.000005)\n",
    "print('loss: %f' % (loss, ))"
   ]
  },
  {
   "cell_type": "markdown",
   "metadata": {},
   "source": [
    "The `grad` returned from the function above is right now all zero. Derive and implement the gradient for the SVM cost function and implement it inline inside the function `svm_loss_naive`. You will find it helpful to interleave your new code inside the existing function.\n",
    "\n",
    "To check that you have correctly implemented the gradient correctly, you can numerically estimate the gradient of the loss function and compare the numeric estimate to the gradient that you computed. We have provided code that does this for you:"
   ]
  },
  {
   "cell_type": "code",
   "execution_count": null,
   "metadata": {},
   "outputs": [],
   "source": [
    "# Once you've implemented the gradient, recompute it with the code below\n",
    "# and gradient check it with the function we provided for you\n",
    "\n",
    "# Compute the loss and its gradient at W.\n",
    "loss, grad = svm_loss_naive(W, X_dev, y_dev, 0.0)\n",
    "\n",
    "# Numerically compute the gradient along several randomly chosen dimensions, and\n",
    "# compare them with your analytically computed gradient. The numbers should match\n",
    "# almost exactly along all dimensions.\n",
    "from gradient_check import grad_check_sparse\n",
    "f = lambda w: svm_loss_naive(w, X_dev, y_dev, 0.0)[0]\n",
    "grad_numerical = grad_check_sparse(f, W, grad)\n",
    "\n",
    "# do the gradient check once again with regularization turned on\n",
    "# you didn't forget the regularization gradient did you?\n",
    "loss, grad = svm_loss_naive(W, X_dev, y_dev, 5e1)\n",
    "f = lambda w: svm_loss_naive(w, X_dev, y_dev, 5e1)[0]\n",
    "grad_numerical = grad_check_sparse(f, W, grad)"
   ]
  },
  {
   "cell_type": "markdown",
   "metadata": {},
   "source": [
    "Complete the implementation of svm_loss_vectorized, and compute the gradient of the loss function in a vectorized way."
   ]
  },
  {
   "cell_type": "code",
   "execution_count": null,
   "metadata": {},
   "outputs": [],
   "source": [
    "def svm_loss_vectorized(W, X, y, reg):\n",
    "    \"\"\"\n",
    "    Structured SVM loss function, vectorized implementation.\n",
    "\n",
    "    Inputs and outputs are the same as svm_loss_naive.\n",
    "    \"\"\"\n",
    "    loss = 0.0\n",
    "    dW = np.zeros(W.shape) # initialize the gradient as zero\n",
    "\n",
    "    #############################################################################\n",
    "    # TODO:                                                                     #\n",
    "    # Implement a vectorized version of the structured SVM loss, storing the    #\n",
    "    # result in loss.                                                           #\n",
    "    #############################################################################\n",
    "    # *****START OF YOUR CODE*****\n",
    "\n",
    "    pass\n",
    "\n",
    "    # *****END OF YOUR CODE*****\n",
    "\n",
    "    #############################################################################\n",
    "    # TODO:                                                                     #\n",
    "    # Implement a vectorized version of the gradient for the structured SVM     #\n",
    "    # loss, storing the result in dW.                                           #\n",
    "    #                                                                           #\n",
    "    # Hint: Instead of computing the gradient from scratch, it may be easier    #\n",
    "    # to reuse some of the intermediate values that you used to compute the     #\n",
    "    # loss.                                                                     #\n",
    "    #############################################################################\n",
    "    # *****START OF YOUR CODE*****\n",
    "\n",
    "    pass\n",
    "\n",
    "    # *****END OF YOUR CODE*****\n",
    "\n",
    "    return loss, dW\n"
   ]
  },
  {
   "cell_type": "code",
   "execution_count": null,
   "metadata": {
    "id": "vectorized_time_2"
   },
   "outputs": [],
   "source": [
    "# The naive implementation and the vectorized implementation should match, but\n",
    "# the vectorized version should still be much faster.\n",
    "tic = time.time()\n",
    "_, grad_naive = svm_loss_naive(W, X_dev, y_dev, 0.000005)\n",
    "toc = time.time()\n",
    "print('Naive loss and gradient: computed in %fs' % (toc - tic))\n",
    "\n",
    "tic = time.time()\n",
    "_, grad_vectorized = svm_loss_vectorized(W, X_dev, y_dev, 0.000005)\n",
    "toc = time.time()\n",
    "print('Vectorized loss and gradient: computed in %fs' % (toc - tic))\n",
    "\n",
    "# The loss is a single number, so it is easy to compare the values computed\n",
    "# by the two implementations. The gradient on the other hand is a matrix, so\n",
    "# we use the Frobenius norm to compare them.\n",
    "difference = np.linalg.norm(grad_naive - grad_vectorized, ord='fro')\n",
    "print('difference: %f' % difference)"
   ]
  },
  {
   "cell_type": "markdown",
   "metadata": {},
   "source": [
    "### Discussion"
   ]
  },
  {
   "cell_type": "markdown",
   "metadata": {},
   "source": []
  },
  {
   "cell_type": "markdown",
   "metadata": {},
   "source": []
  }
 ],
 "metadata": {
  "kernelspec": {
   "display_name": "new_virtual_environment",
   "language": "python",
   "name": "python3"
  },
  "language_info": {
   "codemirror_mode": {
    "name": "ipython",
    "version": 3
   },
   "file_extension": ".py",
   "mimetype": "text/x-python",
   "name": "python",
   "nbconvert_exporter": "python",
   "pygments_lexer": "ipython3",
   "version": "3.12.0"
  }
 },
 "nbformat": 4,
 "nbformat_minor": 1
}
