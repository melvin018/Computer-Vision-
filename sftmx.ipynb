{
 "cells": [
  {
   "cell_type": "code",
   "execution_count": 143,
   "metadata": {},
   "outputs": [],
   "source": [
    "import download\n",
    "from data_utils import load_CIFAR10\n",
    "import data_utils\n"
   ]
  },
  {
   "cell_type": "code",
   "execution_count": 152,
   "metadata": {},
   "outputs": [
    {
     "name": "stdout",
     "output_type": "stream",
     "text": [
      "Data has apparently already been downloaded and unpacked.\n"
     ]
    }
   ],
   "source": [
    "url = \"https://www.cs.toronto.edu/~kriz/cifar-10-python.tar.gz\"\n",
    "CIFAR10_data = \"./data\"\n",
    "download.maybe_download_and_extract(url,CIFAR10_data)"
   ]
  },
  {
   "cell_type": "markdown",
   "metadata": {},
   "source": [
    "  # Load the raw CIFAR-10 data\n",
    "  "
   ]
  },
  {
   "cell_type": "code",
   "execution_count": 145,
   "metadata": {},
   "outputs": [
    {
     "name": "stdout",
     "output_type": "stream",
     "text": [
      "Clear previously loaded data.\n",
      "Train data shape:  (49000, 3073)\n",
      "Train labels shape:  (49000,)\n",
      "Validation data shape:  (1000, 3073)\n",
      "Validation labels shape:  (1000,)\n",
      "Test data shape:  (1000, 3073)\n",
      "Test labels shape:  (1000,)\n",
      "dev data shape:  (500, 3073)\n",
      "dev labels shape:  (500,)\n"
     ]
    }
   ],
   "source": [
    "def get_CIFAR10_data(num_training=49000, num_validation=1000, num_test=1000, num_dev=500):\n",
    " cifar10_dir = './data/cifar-10-batches-py'\n",
    " X_train, y_train, X_test, y_test = data_utils.load_CIFAR10(cifar10_dir)\n",
    " try:\n",
    "       del X_train, y_train\n",
    "       del X_test, y_test\n",
    "       print('Clear previously loaded data.')\n",
    " except:\n",
    "       pass\n",
    "\n",
    " X_train, y_train, X_test, y_test = load_CIFAR10(cifar10_dir)\n",
    "\n",
    " # subsample the data\n",
    " mask_val = list(range(num_training, num_training + num_validation))\n",
    " X_val = X_train[mask_val]\n",
    " y_val = y_train[mask_val]\n",
    "\n",
    "\n",
    " mask_train = list(range(num_training))\n",
    " X_train = X_train[mask_train]\n",
    " y_train = y_train[mask_train]\n",
    "\n",
    " mask_test = list(range(num_test))\n",
    " X_test = X_test[mask_test]\n",
    " y_test = y_test[mask_test]\n",
    "\n",
    " mask_dev = np.random.choice(num_training, num_dev, replace=False)\n",
    " X_dev = X_train[mask_dev]\n",
    " y_dev = y_train[mask_dev]\n",
    "  \n",
    " # Preprocessing: reshape the image data into rows\n",
    " X_train = np.reshape(X_train, (X_train.shape[0], -1))\n",
    " X_val = np.reshape(X_val, (X_val.shape[0], -1))\n",
    " X_test = np.reshape(X_test, (X_test.shape[0], -1))\n",
    " X_dev = np.reshape(X_dev, (X_dev.shape[0], -1))\n",
    " \n",
    "# Normalize the data: subtract the mean image\n",
    " mean_image = np.mean(X_train, axis = 0)\n",
    " X_train -= mean_image\n",
    " X_val -= mean_image\n",
    " X_test -= mean_image\n",
    " X_dev -= mean_image   \n",
    "\n",
    "# add bias dimension and transform into columns\n",
    " X_train = np.hstack([X_train, np.ones((X_train.shape[0], 1))])\n",
    " X_val = np.hstack([X_val, np.ones((X_val.shape[0], 1))])\n",
    " X_test = np.hstack([X_test, np.ones((X_test.shape[0], 1))])\n",
    " X_dev = np.hstack([X_dev, np.ones((X_dev.shape[0], 1))])\n",
    " return X_train, y_train, X_val, y_val, X_test, y_test, X_dev, y_dev\n",
    "\n",
    "# Invoke the above function to get our data.\n",
    "X_train, y_train, X_val, y_val, X_test, y_test, X_dev, y_dev = get_CIFAR10_data()\n",
    "print('Train data shape: ', X_train.shape)\n",
    "print('Train labels shape: ', y_train.shape)\n",
    "print('Validation data shape: ', X_val.shape)\n",
    "print('Validation labels shape: ', y_val.shape)\n",
    "print('Test data shape: ', X_test.shape)\n",
    "print('Test labels shape: ', y_test.shape)\n",
    "print('dev data shape: ', X_dev.shape)\n",
    "print('dev labels shape: ', y_dev.shape)"
   ]
  },
  {
   "cell_type": "markdown",
   "metadata": {},
   "source": [
    "# SoftmaxClassifier"
   ]
  },
  {
   "cell_type": "code",
   "execution_count": 146,
   "metadata": {},
   "outputs": [],
   "source": [
    "import numpy as np\n",
    "from random import shuffle\n",
    "from past.builtins import xrange\n",
    "\n",
    "def softmax_loss_naive(W, X, y, reg):\n",
    "  \"\"\"\n",
    "  Softmax loss function, naive implementation (with loops)\n",
    "\n",
    "  Inputs have dimension D, there are C classes, and we operate on minibatches\n",
    "  of N examples.\n",
    "\n",
    "  Inputs:\n",
    "  - W: A numpy array of shape (D, C) containing weights.\n",
    "  - X: A numpy array of shape (N, D) containing a minibatch of data.\n",
    "  - y: A numpy array of shape (N,) containing training labels; y[i] = c means\n",
    "    that X[i] has label c, where 0 <= c < C.\n",
    "  - reg: (float) regularization strength\n",
    "\n",
    "  Returns a tuple of:\n",
    "  - loss as single float\n",
    "  - gradient with respect to weights W; an array of same shape as W\n",
    "  \"\"\"\n",
    "  # Initialize the loss and gradient to zero.\n",
    "  loss = 0.0\n",
    "  dW = np.zeros_like(W)\n",
    "\n",
    "  #############################################################################\n",
    "  # TODO: Compute the softmax loss and its gradient using explicit loops.     #\n",
    "  # Store the loss in loss and the gradient in dW. If you are not careful     #\n",
    "  # here, it is easy to run into numeric instability. Don't forget the        #\n",
    "  # regularization!                                                           #\n",
    "  #############################################################################\n",
    "  num_train = X.shape[0]\n",
    "  for i in xrange(num_train):\n",
    "      sco = np.dot(X[i], W)\n",
    "      exp_sco = np.exp(sco)\n",
    "      sum_sco = np.sum(exp_sco)\n",
    "      loss -= np.log(exp_sco[y[i]] / sum_sco)\n",
    "      dW += np.dot(X[i].T[:, np.newaxis], exp_sco[np.newaxis, :]) / sum_sco\n",
    "      dW[:, y[i]] -= X[i].T\n",
    "  loss = loss/X.shape[0] + reg*np.sum(W**2)\n",
    "  dW = dW/X.shape[0] + 2*reg*W\n",
    "  #############################################################################\n",
    "  #                          END OF YOUR CODE                                 #\n",
    "  #############################################################################\n",
    "\n",
    "  return loss, dW\n"
   ]
  },
  {
   "cell_type": "code",
   "execution_count": 147,
   "metadata": {},
   "outputs": [],
   "source": [
    "import time"
   ]
  },
  {
   "cell_type": "code",
   "execution_count": 148,
   "metadata": {},
   "outputs": [
    {
     "name": "stdout",
     "output_type": "stream",
     "text": [
      "loss: 2.428974\n",
      "sanity check: 2.302585\n"
     ]
    }
   ],
   "source": [
    "# Generate a random softmax weight matrix and use it to compute the loss.\n",
    "W = np.random.randn(3073, 10) * 0.0001\n",
    "loss, grad = softmax_loss_naive(W, X_dev, y_dev, 0.0)\n",
    "\n",
    "# As a rough sanity check, our loss should be something close to -log(0.1).\n",
    "print('loss: %f' % loss)\n",
    "print('sanity check: %f' % (-np.log(0.1)))"
   ]
  },
  {
   "cell_type": "code",
   "execution_count": 149,
   "metadata": {},
   "outputs": [
    {
     "name": "stdout",
     "output_type": "stream",
     "text": [
      "numerical: -3.247471 analytic: -3.247471, relative error: 5.672236e-09\n",
      "numerical: 0.612269 analytic: 0.612269, relative error: 5.191434e-08\n",
      "numerical: -1.099376 analytic: -1.099376, relative error: 1.624255e-08\n",
      "numerical: 2.080537 analytic: 2.080537, relative error: 2.353169e-08\n",
      "numerical: -2.296465 analytic: -2.296465, relative error: 1.606693e-08\n",
      "numerical: 0.420825 analytic: 0.420825, relative error: 2.079602e-07\n",
      "numerical: 2.327426 analytic: 2.327426, relative error: 5.762871e-09\n",
      "numerical: -0.931625 analytic: -0.931625, relative error: 2.727510e-08\n",
      "numerical: -1.492394 analytic: -1.492394, relative error: 1.812192e-08\n",
      "numerical: 1.851247 analytic: 1.851247, relative error: 3.532736e-08\n",
      "numerical: -0.601768 analytic: -0.601768, relative error: 1.901265e-08\n",
      "numerical: -0.944304 analytic: -0.944304, relative error: 3.199467e-09\n",
      "numerical: 0.812426 analytic: 0.812426, relative error: 8.655273e-08\n",
      "numerical: -1.989485 analytic: -1.989485, relative error: 1.445387e-09\n",
      "numerical: 1.885979 analytic: 1.885979, relative error: 3.202951e-08\n",
      "numerical: 3.707475 analytic: 3.707475, relative error: 1.670450e-08\n",
      "numerical: -0.420063 analytic: -0.420063, relative error: 5.574116e-08\n",
      "numerical: -3.041033 analytic: -3.041033, relative error: 1.520514e-08\n",
      "numerical: 3.148661 analytic: 3.148661, relative error: 1.466086e-08\n",
      "numerical: 0.694959 analytic: 0.694959, relative error: 8.169829e-08\n"
     ]
    }
   ],
   "source": [
    "# Complete the implementation of softmax_loss_naive and implement a (naive)\n",
    "# version of the gradient that uses nested loops.\n",
    "loss, grad = softmax_loss_naive(W, X_dev, y_dev, 0.0)\n",
    "\n",
    "# As we did for the SVM, use numeric gradient checking as a debugging tool.\n",
    "# The numeric gradient should be close to the analytic gradient.\n",
    "from gradient_check import grad_check_sparse\n",
    "f = lambda w: softmax_loss_naive(w, X_dev, y_dev, 0.0)[0]\n",
    "grad_numerical = grad_check_sparse(f, W, grad, 10)\n",
    "\n",
    "# similar to SVM case, do another gradient check with regularization\n",
    "loss, grad = softmax_loss_naive(W, X_dev, y_dev, 5e1)\n",
    "f = lambda w: softmax_loss_naive(w, X_dev, y_dev, 5e1)[0]\n",
    "grad_numerical = grad_check_sparse(f, W, grad, 10)"
   ]
  },
  {
   "cell_type": "code",
   "execution_count": 150,
   "metadata": {},
   "outputs": [],
   "source": [
    "# Now that we have a naive implementation of the softmax loss function and its gradient,\n",
    "# implement a vectorized version in softmax_loss_vectorized.\n",
    "\n",
    "\n",
    "def softmax_loss_vectorized(W, X, y, reg):\n",
    "  \"\"\"\n",
    "  Softmax loss function, vectorized version.\n",
    "\n",
    "  Inputs and outputs are the same as softmax_loss_naive.\n",
    "  \"\"\"\n",
    "  # Initialize the loss and gradient to zero.\n",
    "  loss = 0.0\n",
    "  dW = np.zeros_like(W)\n",
    "\n",
    "  #############################################################################\n",
    "  # TODO: Compute the softmax loss and its gradient using no explicit loops.  #\n",
    "  # Store the loss in loss and the gradient in dW. If you are not careful     #\n",
    "  # here, it is easy to run into numeric instability. Don't forget the        #\n",
    "  # regularization!                                                           #\n",
    "  #############################################################################\n",
    "  '''\n",
    "  sco = np.dot(X, W)\n",
    "  sco[np.arange(sco.shape[0])] -= np.reshape(np.max(sco, axis=1),[-1, 1])\n",
    "  exp_sco = np.exp(sco)\n",
    "  sum_sco = np.sum(exp_sco) \n",
    "  softmax_sco = exp_sco / sum_sco\n",
    "  cross_entropy = np.sum(-np.log(softmax_sco))\n",
    "  loss = cross_entropy/X.shape[0] + reg*np.sum(W**2)\n",
    "\n",
    "  dsco = exp_sco / (exp_sco.sum(axis=1)[:,np.newaxis])\n",
    "  dsco[range(X.shape[0]), y] -= 1\n",
    "  dsco /= X.shape[0]\n",
    "  dW = np.dot(X.T, dsco) + 2*reg*W\n",
    "  '''\n",
    "\n",
    "  sco = np.dot(X, W)\n",
    "  correct_sco = sco[range(X.shape[0]), y]\n",
    "  exp_ = np.exp(sco - correct_sco[:, np.newaxis])\n",
    "  log_ = np.log(exp_.sum(axis=1))\n",
    "  loss = np.sum(log_) / X.shape[0]\n",
    "  loss += reg * np.sum(W**2)\n",
    "\n",
    "  dsco = exp_ / (exp_.sum(axis=1)[:, np.newaxis])\n",
    "  dsco[range(X.shape[0]), y] -= 1\n",
    "  dsco /= X.shape[0]\n",
    "  dW = np.dot(X.T, dsco) + 2*reg*W\n",
    "  #############################################################################\n",
    "  #                          END OF YOUR CODE                                 #\n",
    "  #############################################################################\n",
    "\n",
    "  return loss, dW"
   ]
  },
  {
   "cell_type": "code",
   "execution_count": 151,
   "metadata": {},
   "outputs": [
    {
     "name": "stdout",
     "output_type": "stream",
     "text": [
      "naive loss: 2.428974e+00 computed in 0.024018s\n",
      "vectorized loss: 2.428974e+00 computed in 0.002976s\n",
      "Loss difference: 0.000000\n",
      "Gradient difference: 0.000000\n"
     ]
    }
   ],
   "source": [
    "# The two versions should compute the same results, but the vectorized version should be\n",
    "# much faster.\n",
    "\n",
    "tic = time.time()\n",
    "loss_naive, grad_naive = softmax_loss_naive(W, X_dev, y_dev, 0.000005)\n",
    "toc = time.time()\n",
    "print('naive loss: %e computed in %fs' % (loss_naive, toc - tic))\n",
    "\n",
    "\n",
    "tic = time.time()\n",
    "loss_vectorized, grad_vectorized = softmax_loss_vectorized(W, X_dev, y_dev, 0.000005)\n",
    "toc = time.time()\n",
    "print('vectorized loss: %e computed in %fs' % (loss_vectorized, toc - tic))\n",
    "\n",
    "# As we did for the SVM, we use the Frobenius norm to compare the two versions\n",
    "# of the gradient.\n",
    "grad_difference = np.linalg.norm(grad_naive - grad_vectorized, ord='fro')\n",
    "print('Loss difference: %f' % np.abs(loss_naive - loss_vectorized))\n",
    "print('Gradient difference: %f' % grad_difference)"
   ]
  },
  {
   "cell_type": "code",
   "execution_count": null,
   "metadata": {},
   "outputs": [],
   "source": []
  }
 ],
 "metadata": {
  "kernelspec": {
   "display_name": "base",
   "language": "python",
   "name": "python3"
  },
  "language_info": {
   "codemirror_mode": {
    "name": "ipython",
    "version": 3
   },
   "file_extension": ".py",
   "mimetype": "text/x-python",
   "name": "python",
   "nbconvert_exporter": "python",
   "pygments_lexer": "ipython3",
   "version": "3.10.9"
  }
 },
 "nbformat": 4,
 "nbformat_minor": 2
}
